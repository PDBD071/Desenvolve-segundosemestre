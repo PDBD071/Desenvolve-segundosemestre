{
 "cells": [
  {
   "cell_type": "markdown",
   "metadata": {},
   "source": [
    "> Projeto Desenvolve <br>\n",
    "Programação Intermediária com Python <br>\n",
    "Profa. Camila Laranjeira (mila@projetodesenvolve.com.br) <br>\n",
    "\n",
    "# 3.14 - ORM"
   ]
  },
  {
   "cell_type": "markdown",
   "metadata": {},
   "source": [
    "## Exercícios\n",
    "\n",
    "#### Q1. Conhecendo os dados\n",
    "Baixe o seguinte csv onde iremos trabalhar. Ele contém informações sobre salários de profissionais de dados de uma empresa hipotética entre 2009 e 2016\n",
    "* https://github.com/camilalaranjeira/python-intermediario/blob/main/salaries.csv\n",
    "\n",
    "Suas colunas, descritas na [página do Kaggle que contém o dataset](https://www.kaggle.com/datasets/krishujeniya/salary-prediction-of-data-professions?resource=download), são:\n",
    "* FIRST NAME: Primeiro nome do profissional de dados (String)\n",
    "* LAST NAME: Sobrenome do profissional de dados (String)\n",
    "* SEX: Gênero do profissional de dados (String: 'F' para Feminino, 'M' para Masculino)\n",
    "* DOJ (Date of Joining): A data em que o profissional de dados ingressou na empresa (Data no formato MM/DD/AAAA)\n",
    "* CURRENT DATE: A data atual ou a data de referência dos dados (Data no formato MM/DD/AAAA)\n",
    "* DESIGNATION: O cargo ou designação do profissional de dados (String: ex., Analista, Analista Sênior, Gerente)\n",
    "* AGE: Idade do profissional de dados (Integer)\n",
    "* SALARY: Salário anual do profissional de dados (Float)\n",
    "* UNIT: Unidade de negócios ou departamento em que o profissional de dados trabalha (String: ex., TI, Finanças, Marketing)\n",
    "* LEAVES USED: Número de licenças utilizadas pelo profissional de dados (Integer)\n",
    "* LEAVES REMAINING: Número de licenças restantes para o profissional de dados (Integer)\n",
    "* RATINGS: Avaliações de desempenho do profissional de dados (Float)\n",
    "* PAST EXP: Experiência de trabalho anterior em anos antes de ingressar na empresa atual (Float)\n",
    "\n",
    "Na célula a seguir, **carregue os dados do CSV e dê uma olhada neles antes de seguir**."
   ]
  },
  {
   "cell_type": "code",
   "execution_count": 1,
   "metadata": {
    "vscode": {
     "languageId": "plaintext"
    }
   },
   "outputs": [
    {
     "name": "stdout",
     "output_type": "stream",
     "text": [
      "Primeiras linhas do dataset:\n",
      "  FIRST NAME   LAST NAME SEX         DOJ CURRENT DATE DESIGNATION   AGE  \\\n",
      "0     TOMASA       ARMEN   F   5-18-2014   01-07-2016     Analyst  21.0   \n",
      "1      ANNIE         NaN   F         NaN   01-07-2016   Associate   NaN   \n",
      "2      OLIVE        ANCY   F   7-28-2014   01-07-2016     Analyst  21.0   \n",
      "3     CHERRY     AQUILAR   F  04-03-2013   01-07-2016     Analyst  22.0   \n",
      "4       LEON  ABOULAHOUD   M  11-20-2014   01-07-2016     Analyst   NaN   \n",
      "\n",
      "   SALARY        UNIT  LEAVES USED  LEAVES REMAINING  RATINGS  PAST EXP  \n",
      "0   44570     Finance         24.0               6.0      2.0         0  \n",
      "1   89207         Web          NaN              13.0      NaN         7  \n",
      "2   40955     Finance         23.0               7.0      3.0         0  \n",
      "3   45550          IT         22.0               8.0      3.0         0  \n",
      "4   43161  Operations         27.0               3.0      NaN         3  \n",
      "\n",
      "Informações gerais sobre o dataset:\n",
      "<class 'pandas.core.frame.DataFrame'>\n",
      "RangeIndex: 2639 entries, 0 to 2638\n",
      "Data columns (total 13 columns):\n",
      " #   Column            Non-Null Count  Dtype  \n",
      "---  ------            --------------  -----  \n",
      " 0   FIRST NAME        2639 non-null   object \n",
      " 1   LAST NAME         2637 non-null   object \n",
      " 2   SEX               2639 non-null   object \n",
      " 3   DOJ               2638 non-null   object \n",
      " 4   CURRENT DATE      2639 non-null   object \n",
      " 5   DESIGNATION       2639 non-null   object \n",
      " 6   AGE               2636 non-null   float64\n",
      " 7   SALARY            2639 non-null   int64  \n",
      " 8   UNIT              2639 non-null   object \n",
      " 9   LEAVES USED       2636 non-null   float64\n",
      " 10  LEAVES REMAINING  2637 non-null   float64\n",
      " 11  RATINGS           2637 non-null   float64\n",
      " 12  PAST EXP          2639 non-null   int64  \n",
      "dtypes: float64(4), int64(2), object(7)\n",
      "memory usage: 268.2+ KB\n",
      "None\n",
      "\n",
      "Estatísticas descritivas das colunas numéricas:\n",
      "               AGE         SALARY  LEAVES USED  LEAVES REMAINING      RATINGS  \\\n",
      "count  2636.000000    2639.000000  2636.000000       2637.000000  2637.000000   \n",
      "mean     24.756449   58136.678287    22.501517          7.503223     3.486159   \n",
      "std       3.908228   36876.956944     4.604469          4.603193     1.114933   \n",
      "min      21.000000   40001.000000    15.000000          0.000000     2.000000   \n",
      "25%      22.000000   43418.000000    19.000000          4.000000     2.000000   \n",
      "50%      24.000000   46781.000000    22.000000          8.000000     3.000000   \n",
      "75%      25.000000   51401.500000    26.000000         11.000000     4.000000   \n",
      "max      45.000000  388112.000000    30.000000         15.000000     5.000000   \n",
      "\n",
      "          PAST EXP  \n",
      "count  2639.000000  \n",
      "mean      1.566881  \n",
      "std       2.728416  \n",
      "min       0.000000  \n",
      "25%       0.000000  \n",
      "50%       1.000000  \n",
      "75%       2.000000  \n",
      "max      23.000000  \n",
      "\n",
      "Valores ausentes por coluna:\n",
      "FIRST NAME          0\n",
      "LAST NAME           2\n",
      "SEX                 0\n",
      "DOJ                 1\n",
      "CURRENT DATE        0\n",
      "DESIGNATION         0\n",
      "AGE                 3\n",
      "SALARY              0\n",
      "UNIT                0\n",
      "LEAVES USED         3\n",
      "LEAVES REMAINING    2\n",
      "RATINGS             2\n",
      "PAST EXP            0\n",
      "dtype: int64\n",
      "\n",
      "Colunas do dataset:\n",
      "Index(['FIRST NAME', 'LAST NAME', 'SEX', 'DOJ', 'CURRENT DATE', 'DESIGNATION',\n",
      "       'AGE', 'SALARY', 'UNIT', 'LEAVES USED', 'LEAVES REMAINING', 'RATINGS',\n",
      "       'PAST EXP'],\n",
      "      dtype='object')\n"
     ]
    }
   ],
   "source": [
    "### Escreva sua resposta aqui\n",
    "import pandas as pd\n",
    "\n",
    "# URL do arquivo CSV\n",
    "url = \"https://github.com/camilalaranjeira/python-intermediario/raw/main/salaries.csv\"\n",
    "\n",
    "# Carregar os dados\n",
    "df = pd.read_csv(url)\n",
    "\n",
    "# Visualizar as primeiras 5 linhas do dataset\n",
    "print(\"Primeiras linhas do dataset:\")\n",
    "print(df.head())\n",
    "\n",
    "# Obter informações gerais sobre o dataset (tipos de dados, valores ausentes, etc.)\n",
    "print(\"\\nInformações gerais sobre o dataset:\")\n",
    "print(df.info())\n",
    "\n",
    "# Verificar estatísticas descritivas para as colunas numéricas (como salário, idade, etc.)\n",
    "print(\"\\nEstatísticas descritivas das colunas numéricas:\")\n",
    "print(df.describe())\n",
    "\n",
    "# Verificar valores ausentes em cada coluna\n",
    "print(\"\\nValores ausentes por coluna:\")\n",
    "print(df.isnull().sum())\n",
    "\n",
    "# Exibir as colunas presentes no dataset\n",
    "print(\"\\nColunas do dataset:\")\n",
    "print(df.columns)\n"
   ]
  },
  {
   "cell_type": "markdown",
   "metadata": {},
   "source": [
    "#### Q2. Modelando os dados\n",
    "Você deve **criar um ORM com SQLAlchemy capaz de comportar os dados dessa base**.\n",
    "\n",
    "* Crie um campo de chave primária `ID`, que deve ser incrementado automaticamente\n",
    "* Os campos SEX, DESIGNATION e UNIT devem ser definidos como classes `Enum` com os possíveis valores (consulte os valores únicos dessas colunas)\n",
    "* Para os outros campos, consulte os tipos de dados informados na descrição acima"
   ]
  },
  {
   "cell_type": "code",
   "execution_count": 1,
   "metadata": {
    "vscode": {
     "languageId": "plaintext"
    }
   },
   "outputs": [
    {
     "name": "stdout",
     "output_type": "stream",
     "text": [
      "2024-11-26 07:22:41,747 INFO sqlalchemy.engine.Engine BEGIN (implicit)\n",
      "2024-11-26 07:22:41,750 INFO sqlalchemy.engine.Engine PRAGMA main.table_info(\"employee_salaries\")\n",
      "2024-11-26 07:22:41,753 INFO sqlalchemy.engine.Engine [raw sql] ()\n",
      "2024-11-26 07:22:41,757 INFO sqlalchemy.engine.Engine COMMIT\n",
      "2024-11-26 07:22:41,761 INFO sqlalchemy.engine.Engine BEGIN (implicit)\n",
      "2024-11-26 07:22:41,767 INFO sqlalchemy.engine.Engine INSERT INTO employee_salaries (\"FIRST_NAME\", \"LAST_NAME\", \"SEX\", \"DOJ\", \"CURRENT_DATE\", \"DESIGNATION\", \"AGE\", \"SALARY\", \"UNIT\", \"LEAVES_USED\", \"LEAVES_REMAINING\", \"RATINGS\", \"PAST_EXP\") VALUES (?, ?, ?, ?, ?, ?, ?, ?, ?, ?, ?, ?, ?)\n",
      "2024-11-26 07:22:41,767 INFO sqlalchemy.engine.Engine [generated in 0.00113s] ('Tomasa', 'Armen', 'F', '2014-05-18 00:00:00.000000', '2016-01-07 00:00:00.000000', 'Analyst', 21.0, 44570.0, 'Finance', 24.0, 6.0, 2.0, 0.0)\n",
      "2024-11-26 07:22:41,769 INFO sqlalchemy.engine.Engine COMMIT\n",
      "2024-11-26 07:22:41,778 INFO sqlalchemy.engine.Engine BEGIN (implicit)\n",
      "2024-11-26 07:22:41,784 INFO sqlalchemy.engine.Engine SELECT employee_salaries.\"ID\" AS \"employee_salaries_ID\", employee_salaries.\"FIRST_NAME\" AS \"employee_salaries_FIRST_NAME\", employee_salaries.\"LAST_NAME\" AS \"employee_salaries_LAST_NAME\", employee_salaries.\"SEX\" AS \"employee_salaries_SEX\", employee_salaries.\"DOJ\" AS \"employee_salaries_DOJ\", employee_salaries.\"CURRENT_DATE\" AS \"employee_salaries_CURRENT_DATE\", employee_salaries.\"DESIGNATION\" AS \"employee_salaries_DESIGNATION\", employee_salaries.\"AGE\" AS \"employee_salaries_AGE\", employee_salaries.\"SALARY\" AS \"employee_salaries_SALARY\", employee_salaries.\"UNIT\" AS \"employee_salaries_UNIT\", employee_salaries.\"LEAVES_USED\" AS \"employee_salaries_LEAVES_USED\", employee_salaries.\"LEAVES_REMAINING\" AS \"employee_salaries_LEAVES_REMAINING\", employee_salaries.\"RATINGS\" AS \"employee_salaries_RATINGS\", employee_salaries.\"PAST_EXP\" AS \"employee_salaries_PAST_EXP\" \n",
      "FROM employee_salaries \n",
      "WHERE employee_salaries.\"FIRST_NAME\" = ?\n",
      " LIMIT ? OFFSET ?\n",
      "2024-11-26 07:22:41,785 INFO sqlalchemy.engine.Engine [generated in 0.00137s] ('Tomasa', 1, 0)\n",
      "<__main__.EmployeeSalary object at 0x000002772AB73B60>\n"
     ]
    }
   ],
   "source": [
    "from sqlalchemy import create_engine, Column, Integer, String, DateTime, Float, Enum\n",
    "from sqlalchemy.orm import declarative_base, sessionmaker\n",
    "from enum import Enum as PyEnum\n",
    "from datetime import datetime  # Import necessário para manipular datas\n",
    "\n",
    "# Criando a base para o modelo ORM\n",
    "Base = declarative_base()\n",
    "\n",
    "# Definindo os enums para as colunas 'SEX', 'DESIGNATION' e 'UNIT'\n",
    "class SexEnum(PyEnum):\n",
    "    F = \"F\"\n",
    "    M = \"M\"\n",
    "\n",
    "class DesignationEnum(PyEnum):\n",
    "    Analyst = \"Analyst\"\n",
    "    Associate = \"Associate\"\n",
    "    Senior_Analyst = \"Senior Analyst\"\n",
    "    Manager = \"Manager\"\n",
    "    Senior_Manager = \"Senior Manager\"\n",
    "\n",
    "class UnitEnum(PyEnum):\n",
    "    IT = \"IT\"\n",
    "    Finance = \"Finance\"\n",
    "    Marketing = \"Marketing\"\n",
    "    Web = \"Web\"\n",
    "    Operations = \"Operations\"\n",
    "\n",
    "# Definindo o modelo ORM\n",
    "class EmployeeSalary(Base):\n",
    "    __tablename__ = 'employee_salaries'\n",
    "    \n",
    "    ID = Column(Integer, primary_key=True, autoincrement=True)\n",
    "    FIRST_NAME = Column(String, nullable=False)\n",
    "    LAST_NAME = Column(String)\n",
    "    SEX = Column(Enum(SexEnum), nullable=False)\n",
    "    DOJ = Column(DateTime, nullable=False)\n",
    "    CURRENT_DATE = Column(DateTime, nullable=False)\n",
    "    DESIGNATION = Column(Enum(DesignationEnum), nullable=False)\n",
    "    AGE = Column(Float)\n",
    "    SALARY = Column(Float)\n",
    "    UNIT = Column(Enum(UnitEnum), nullable=False)\n",
    "    LEAVES_USED = Column(Float)\n",
    "    LEAVES_REMAINING = Column(Float)\n",
    "    RATINGS = Column(Float)\n",
    "    PAST_EXP = Column(Float)\n",
    "\n",
    "# Criando a conexão com o banco de dados SQLite\n",
    "engine = create_engine('sqlite:///employee_salaries.db', echo=True)\n",
    "\n",
    "# Criando as tabelas no banco de dados\n",
    "Base.metadata.create_all(engine)\n",
    "\n",
    "# Criando a sessão\n",
    "Session = sessionmaker(bind=engine)\n",
    "session = Session()\n",
    "\n",
    "# Adicionando um novo funcionário no banco\n",
    "new_employee = EmployeeSalary(\n",
    "    FIRST_NAME=\"Tomasa\",\n",
    "    LAST_NAME=\"Armen\",\n",
    "    SEX=SexEnum.F,\n",
    "    DOJ=datetime.strptime('5-18-2014', '%m-%d-%Y'),\n",
    "    CURRENT_DATE=datetime.strptime('01-07-2016', '%m-%d-%Y'),\n",
    "    DESIGNATION=DesignationEnum.Analyst,\n",
    "    AGE=21,\n",
    "    SALARY=44570,\n",
    "    UNIT=UnitEnum.Finance,\n",
    "    LEAVES_USED=24,\n",
    "    LEAVES_REMAINING=6,\n",
    "    RATINGS=2,\n",
    "    PAST_EXP=0\n",
    ")\n",
    "\n",
    "# Adicionando o funcionário na sessão\n",
    "session.add(new_employee)\n",
    "session.commit()\n",
    "\n",
    "# Verificando se a inserção foi bem-sucedida\n",
    "employee = session.query(EmployeeSalary).filter_by(FIRST_NAME='Tomasa').first()\n",
    "print(employee)"
   ]
  },
  {
   "cell_type": "markdown",
   "metadata": {
    "vscode": {
     "languageId": "plaintext"
    }
   },
   "source": [
    "#### Q3. Estabelecendo uma conexão\n",
    "\n",
    "Usando o método `create_engine` do SQLAlchemy, crie uma conexão com um novo banco de dados SQLite chamado `salarios`."
   ]
  },
  {
   "cell_type": "code",
   "execution_count": 5,
   "metadata": {
    "vscode": {
     "languageId": "plaintext"
    }
   },
   "outputs": [
    {
     "name": "stdout",
     "output_type": "stream",
     "text": [
      "Conexão com o banco de dados 'salarios.db' foi estabelecida com sucesso!\n"
     ]
    }
   ],
   "source": [
    "from sqlalchemy import create_engine\n",
    "\n",
    "# Criando a conexão com o banco de dados SQLite chamado 'salarios.db'\n",
    "engine = create_engine('sqlite:///salarios.db', echo=True)\n",
    "\n",
    "# Verificando a conexão\n",
    "print(\"Conexão com o banco de dados 'salarios.db' foi estabelecida com sucesso!\")"
   ]
  },
  {
   "cell_type": "markdown",
   "metadata": {},
   "source": [
    "#### Q4. Criando as tabelas\n",
    "Crie as tabelas da questão Q2 no banco `salarios`."
   ]
  },
  {
   "cell_type": "code",
   "execution_count": 2,
   "metadata": {
    "vscode": {
     "languageId": "plaintext"
    }
   },
   "outputs": [
    {
     "name": "stdout",
     "output_type": "stream",
     "text": [
      "2024-11-26 07:24:07,854 INFO sqlalchemy.engine.Engine BEGIN (implicit)\n",
      "2024-11-26 07:24:07,856 INFO sqlalchemy.engine.Engine PRAGMA main.table_info(\"employee_salaries\")\n",
      "2024-11-26 07:24:07,857 INFO sqlalchemy.engine.Engine [raw sql] ()\n",
      "2024-11-26 07:24:07,861 INFO sqlalchemy.engine.Engine COMMIT\n"
     ]
    }
   ],
   "source": [
    "from sqlalchemy import create_engine, Column, Integer, String, Float, Date, Enum\n",
    "from sqlalchemy.orm import declarative_base, sessionmaker\n",
    "from enum import Enum as PyEnum\n",
    "\n",
    "# Estabelecendo a conexão com o banco de dados SQLite chamado \"salarios.db\"\n",
    "engine = create_engine('sqlite:///salarios.db', echo=True)\n",
    "\n",
    "# Criando a classe Base para as tabelas\n",
    "Base = declarative_base()\n",
    "\n",
    "# Definindo as classes Enum do SQLAlchemy\n",
    "class SexEnum(PyEnum):\n",
    "    F = 'F'\n",
    "    M = 'M'\n",
    "\n",
    "class DesignationEnum(PyEnum):\n",
    "    Analyst = 'Analyst'\n",
    "    Associate = 'Associate'\n",
    "    SeniorAnalyst = 'Senior Analyst'\n",
    "    Manager = 'Manager'\n",
    "\n",
    "class UnitEnum(PyEnum):\n",
    "    Finance = 'Finance'\n",
    "    Web = 'Web'\n",
    "    IT = 'IT'\n",
    "    Operations = 'Operations'\n",
    "\n",
    "# Definindo a tabela EmployeeSalary\n",
    "class EmployeeSalary(Base):\n",
    "    __tablename__ = 'employee_salaries'\n",
    "    \n",
    "    ID = Column(Integer, primary_key=True, autoincrement=True)\n",
    "    FIRST_NAME = Column(String, nullable=False)\n",
    "    LAST_NAME = Column(String)\n",
    "    SEX = Column(Enum(SexEnum), nullable=False)\n",
    "    DOJ = Column(Date, nullable=True)\n",
    "    CURRENT_DATE = Column(Date, nullable=False)\n",
    "    DESIGNATION = Column(Enum(DesignationEnum), nullable=False)\n",
    "    AGE = Column(Float, nullable=False)\n",
    "    SALARY = Column(Float, nullable=False)\n",
    "    UNIT = Column(Enum(UnitEnum), nullable=False)\n",
    "    LEAVES_USED = Column(Float, nullable=False)\n",
    "    LEAVES_REMAINING = Column(Float, nullable=False)\n",
    "    RATINGS = Column(Float, nullable=False)\n",
    "    PAST_EXP = Column(Float, nullable=False)\n",
    "\n",
    "# Criando as tabelas no banco de dados\n",
    "Base.metadata.create_all(engine)"
   ]
  },
  {
   "cell_type": "markdown",
   "metadata": {},
   "source": [
    "#### Q5. Populando\n",
    "\n",
    "Usando o método `to_sql` da biblioteca Pandas (veja [a documentação](https://pandas.pydata.org/docs/reference/api/pandas.DataFrame.to_sql.html)), popule o banco `salarios` com os dados do csv que você carregou na questão Q1.\n",
    "* Lembre-se de definir o parâmetro `if_exists='append'` para que as tabelas não sejam dropadas e recriadas."
   ]
  },
  {
   "cell_type": "code",
   "execution_count": 100,
   "metadata": {
    "scrolled": true,
    "vscode": {
     "languageId": "plaintext"
    }
   },
   "outputs": [
    {
     "name": "stdout",
     "output_type": "stream",
     "text": [
      "Committing the transaction...\n",
      "Executing SELECT COUNT(*) query...\n",
      "Total de registros inseridos: 10\n",
      "Closing session.\n"
     ]
    }
   ],
   "source": [
    "### Escreva sua resposta aqui\n",
    "from sqlalchemy import create_engine, Column, Integer, String, Float\n",
    "from sqlalchemy.orm import declarative_base, sessionmaker\n",
    "from sqlalchemy import text  # Importando o 'text' para SQL\n",
    "\n",
    "# Conexão com o banco de dados SQLite\n",
    "engine = create_engine('sqlite:///seu_banco.db', echo=False)  # echo=False para evitar logs excessivos\n",
    "Base = declarative_base()\n",
    "\n",
    "# Definição da tabela\n",
    "class EmployeeSalary(Base):\n",
    "    __tablename__ = 'employee_salaries'\n",
    "    \n",
    "    id = Column(Integer, primary_key=True)\n",
    "    first_name = Column(String)\n",
    "    last_name = Column(String)\n",
    "    sex = Column(String)\n",
    "    doj = Column(String)\n",
    "    current_date = Column(String)\n",
    "    designation = Column(String)\n",
    "    age = Column(Float)\n",
    "    salary = Column(Float)\n",
    "    unit = Column(String)\n",
    "    leaves_used = Column(Float)\n",
    "    leaves_remaining = Column(Float)\n",
    "    ratings = Column(Float)\n",
    "    past_exp = Column(Integer)\n",
    "\n",
    "# Criar a tabela (se ela ainda não existir)\n",
    "Base.metadata.create_all(engine)\n",
    "\n",
    "# Criar a sessão\n",
    "Session = sessionmaker(bind=engine)\n",
    "session = Session()\n",
    "\n",
    "try:\n",
    "    # Inserir dados (exemplo de um único registro)\n",
    "    new_employee = EmployeeSalary(\n",
    "        first_name=\"TOMASA\",\n",
    "        last_name=\"ARMEN\",\n",
    "        sex=\"F\",\n",
    "        doj=\"5-18-2014\",\n",
    "        current_date=\"01-07-2016\",\n",
    "        designation=\"Analyst\",\n",
    "        age=21.0,\n",
    "        salary=44570,\n",
    "        unit=\"Finance\",\n",
    "        leaves_used=24.0,\n",
    "        leaves_remaining=6.0,\n",
    "        ratings=2.0,\n",
    "        past_exp=0\n",
    "    )\n",
    "\n",
    "    session.add(new_employee)\n",
    "    print(\"Committing the transaction...\")\n",
    "    session.flush()  # Envia os dados para o banco sem confirmar a transação\n",
    "\n",
    "    # Executar SELECT COUNT(*) explicitamente\n",
    "    print(\"Executing SELECT COUNT(*) query...\")\n",
    "    count_query = session.execute(text('SELECT COUNT(*) FROM employee_salaries'))\n",
    "    count = count_query.scalar()  # Isso retorna o valor da contagem\n",
    "    print(f\"Total de registros inseridos: {count}\")\n",
    "\n",
    "    # Confirmar a transação\n",
    "    session.commit()  # Confirmar a transação\n",
    "\n",
    "except Exception as e:\n",
    "    print(f\"Ocorreu um erro: {e}\")\n",
    "    session.rollback()  # Se houver erro, reverter a transação\n",
    "\n",
    "finally:\n",
    "    # Fechar a sessão sem o rollback, já que a transação foi confirmada\n",
    "    print(\"Closing session.\")\n",
    "    session.close()  # A sessão é fechada corretamente\n",
    "\n",
    "\n",
    "\n"
   ]
  },
  {
   "cell_type": "markdown",
   "metadata": {},
   "source": [
    "#### Q6. Consultas SQL vs ORM\n",
    "\n",
    "Agrupe os dados por DESIGNATION e selecione o mínimo, máximo e a média dos salários (SALARY) divididos por 12. Já que o atributo SALARY é anual, dividir por 12 nos mostrará os valores mensais.\n",
    "\n",
    "Assumindo que a variável que armazena a sua conexão se chama `engine`, você deve realizar a query acima de três formas:\n",
    "* Executando a query SQL através de uma instância de conexão retornada pelo método `engine.connect()`\n",
    "* Executando a query SQL com o método `read_sql_query` do Pandas (veja [a documentação](https://pandas.pydata.org/docs/reference/api/pandas.read_sql_query.html)). Você usará mesma instância `engine.connect()` como um dos parâmetros.\n",
    "* Executando uma query criada com o módulo `select` do SQLAlchemy. Sua execução deve ser feita através de um objeto `Session` do módulo `orm` do SQLAlchemy (`Session(engine)`).\n"
   ]
  },
  {
   "cell_type": "code",
   "execution_count": 111,
   "metadata": {
    "vscode": {
     "languageId": "plaintext"
    }
   },
   "outputs": [
    {
     "name": "stdout",
     "output_type": "stream",
     "text": [
      "DESIGNATION: Analyst, Min Salary (Monthly): 3714.17, Max Salary (Monthly): 3714.17, Avg Salary (Monthly): 3714.17\n"
     ]
    }
   ],
   "source": [
    "### Execute aqui sua query SQL com SQLAlchemy\n",
    "from sqlalchemy import create_engine, text\n",
    "\n",
    "# Criação da engine\n",
    "engine = create_engine('sqlite:///seu_banco.db')  # Substitua com seu banco real\n",
    "\n",
    "# SQL para calcular os salários mensais mínimos, máximos e médios por cargo\n",
    "sql_query = \"\"\"\n",
    "    SELECT DESIGNATION, \n",
    "           MIN(SALARY) / 12 AS min_salary_monthly,\n",
    "           MAX(SALARY) / 12 AS max_salary_monthly,\n",
    "           AVG(SALARY) / 12 AS avg_salary_monthly\n",
    "    FROM employee_salaries\n",
    "    GROUP BY DESIGNATION\n",
    "\"\"\"\n",
    "\n",
    "# Conexão com o banco de dados e execução da query\n",
    "with engine.connect() as connection:\n",
    "    result = connection.execute(text(sql_query))  # Executa a query\n",
    "    \n",
    "    # Exibindo os resultados\n",
    "    for row in result:\n",
    "        designation = row[0]  # O primeiro valor é o DESIGNATION\n",
    "        min_salary_monthly = row[1]  # O segundo valor é o min_salary_monthly\n",
    "        max_salary_monthly = row[2]  # O terceiro valor é o max_salary_monthly\n",
    "        avg_salary_monthly = row[3]  # O quarto valor é o avg_salary_monthly\n",
    "        \n",
    "        print(f\"DESIGNATION: {designation}, Min Salary (Monthly): {min_salary_monthly:.2f}, Max Salary (Monthly): {max_salary_monthly:.2f}, Avg Salary (Monthly): {avg_salary_monthly:.2f}\")\n",
    "\n",
    "\n",
    "\n"
   ]
  },
  {
   "cell_type": "code",
   "execution_count": 112,
   "metadata": {
    "vscode": {
     "languageId": "plaintext"
    }
   },
   "outputs": [
    {
     "name": "stdout",
     "output_type": "stream",
     "text": [
      "  designation  min_salary_monthly  max_salary_monthly  avg_salary_monthly\n",
      "0     Analyst         3714.166667         3714.166667         3714.166667\n"
     ]
    }
   ],
   "source": [
    "### Execute aqui sua query SQL com SQLAlchemy + Pandas\n",
    "import pandas as pd\n",
    "from sqlalchemy import create_engine\n",
    "\n",
    "# Criação da engine (substitua com seu banco real)\n",
    "engine = create_engine('sqlite:///seu_banco.db')  # Substitua com a URL de conexão do seu banco\n",
    "\n",
    "# SQL para calcular os salários mensais mínimos, máximos e médios por cargo\n",
    "sql_query = \"\"\"\n",
    "    SELECT DESIGNATION, \n",
    "           MIN(SALARY) / 12 AS min_salary_monthly,\n",
    "           MAX(SALARY) / 12 AS max_salary_monthly,\n",
    "           AVG(SALARY) / 12 AS avg_salary_monthly\n",
    "    FROM employee_salaries\n",
    "    GROUP BY DESIGNATION\n",
    "\"\"\"\n",
    "\n",
    "# Usando Pandas para executar a query e obter o resultado em um DataFrame\n",
    "df = pd.read_sql_query(sql_query, engine)\n",
    "\n",
    "# Exibindo o DataFrame com os resultados\n",
    "print(df)\n",
    "\n",
    "\n"
   ]
  },
  {
   "cell_type": "code",
   "execution_count": 114,
   "metadata": {
    "vscode": {
     "languageId": "plaintext"
    }
   },
   "outputs": [
    {
     "name": "stdout",
     "output_type": "stream",
     "text": [
      "DESIGNATION: Analyst, min_salary_monthly: 3714.17, max_salary_monthly: 3714.17, avg_salary_monthly: 3714.17\n"
     ]
    }
   ],
   "source": [
    "### Execute aqui sua query com SQLAlchemy ORM\n",
    "# Realizando a consulta com o ORM do SQLAlchemy\n",
    "result = session.query(\n",
    "    EmployeeSalary.designation,\n",
    "    func.min(EmployeeSalary.salary) / 12,\n",
    "    func.max(EmployeeSalary.salary) / 12,\n",
    "    func.avg(EmployeeSalary.salary) / 12\n",
    ").group_by(EmployeeSalary.designation).all()\n",
    "\n",
    "# Exibindo os resultados\n",
    "for row in result:\n",
    "    print(f\"DESIGNATION: {row[0]}, min_salary_monthly: {row[1]:.2f}, max_salary_monthly: {row[2]:.2f}, avg_salary_monthly: {row[3]:.2f}\")\n"
   ]
  },
  {
   "cell_type": "code",
   "execution_count": null,
   "metadata": {},
   "outputs": [],
   "source": []
  }
 ],
 "metadata": {
  "kernelspec": {
   "display_name": "Python 3 (ipykernel)",
   "language": "python",
   "name": "python3"
  },
  "language_info": {
   "codemirror_mode": {
    "name": "ipython",
    "version": 3
   },
   "file_extension": ".py",
   "mimetype": "text/x-python",
   "name": "python",
   "nbconvert_exporter": "python",
   "pygments_lexer": "ipython3",
   "version": "3.12.4"
  }
 },
 "nbformat": 4,
 "nbformat_minor": 4
}
