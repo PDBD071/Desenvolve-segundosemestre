{
 "cells": [
  {
   "cell_type": "markdown",
   "metadata": {},
   "source": [
    "> Projeto Desenvolve <br>\n",
    "Programação Intermediária com Python <br>\n",
    "Profa. Camila Laranjeira (mila@projetodesenvolve.com.br) <br>\n",
    "\n",
    "# 3.11 - Data Model"
   ]
  },
  {
   "cell_type": "markdown",
   "metadata": {},
   "source": [
    "## Exercícios\n",
    "\n",
    "#### Q1. `dataclass`\n",
    "Exercício adaptado de [codechalleng.es/bites/154/](https://codechalleng.es/bites/154/) e [codechalleng.es/bites/320/](https://codechalleng.es/bites/320/).\n",
    "\n",
    "Neste desafio, você deve escrever uma `dataclass` chamada `Bite` que gerencia 3 atributos: `number`, `title` e `level`. Seus tipos são:\n",
    "* `number` - `int`, \n",
    "* `title` - `str`, \n",
    "* `level` -  classe `Enum` chamada `BiteLevel` com os atributos `Beginner`, `Intermediate`, `Advanced`. \n",
    "\n",
    "Exemplo de dado: `{'number': 154, 'title': 'Escreva uma dataclass', 'level': BiteLevel.Intermediate}`\n",
    "\n",
    "As características dessa classe são:\n",
    "* O atributo`level` tem um valor padrão `BiteLevel.Beginner`\n",
    "* Uma coleção de objetos `Bite` tem que ser ordenável somente pelo atributo `number`\n",
    "* Implemente o método especial `__str__` para imprimir o Bite na forma `f'{number} - {title} ({level})'`\n",
    "\n",
    "Teste sua classe executando o seguinte código:\n",
    "```python\n",
    "bites = []\n",
    "bites.append(Bite(154, 'Escreva uma dataclass', 'Intermediate'))\n",
    "bites.append(Bite(1, 'Some n valores'))\n",
    "bites.append(Bite(37, 'Reescreva um loop com recursão', 'Intermediate'))\n",
    "\n",
    "for b in bites.sort(): print(b)\n",
    "# Ordem esperada na saída:\n",
    "# 1 - Some n valores (Beginner)\n",
    "# 37 - Reescreva um loop com recursão (Intermediate)\n",
    "# 154 - Escreva uma dataclass (Intermediate)\n",
    "```"
   ]
  },
  {
   "cell_type": "code",
   "execution_count": 1,
   "metadata": {
    "vscode": {
     "languageId": "plaintext"
    }
   },
   "outputs": [
    {
     "name": "stdout",
     "output_type": "stream",
     "text": [
      "1 - Some n valores (Beginner)\n",
      "37 - Loop com recursão (Intermediate)\n",
      "154 - Escreva uma dataclass (Intermediate)\n"
     ]
    }
   ],
   "source": [
    "#### Escreva sua resposta aqui\n",
    "from dataclasses import dataclass\n",
    "from enum import Enum\n",
    "\n",
    "# Definindo a Enum BiteLevel com os níveis de dificuldade\n",
    "class BiteLevel(Enum):\n",
    "    Beginner = 'Beginner'\n",
    "    Intermediate = 'Intermediate'\n",
    "    Advanced = 'Advanced'\n",
    "\n",
    "# Definindo a dataclass Bite\n",
    "@dataclass(order=True)\n",
    "class Bite:\n",
    "    number: int\n",
    "    title: str\n",
    "    level: BiteLevel = BiteLevel.Beginner  # Valor padrão é Beginner\n",
    "    \n",
    "    def __str__(self):\n",
    "        return f'{self.number} - {self.title} ({self.level.value})'\n",
    "\n",
    "# Testando a implementação\n",
    "bites = []\n",
    "\n",
    "bites.append(Bite(154, 'Escreva uma dataclass', BiteLevel.Intermediate))\n",
    "bites.append(Bite(1, 'Some n valores'))  # O nível é o padrão (Beginner)\n",
    "bites.append(Bite(37, 'Loop com recursão', BiteLevel.Intermediate))\n",
    "\n",
    "# Ordenando os bites pelo atributo 'number'\n",
    "for b in sorted(bites):  # sorted é usado para garantir a ordenação pelo 'number'\n",
    "    print(b)\n"
   ]
  },
  {
   "cell_type": "markdown",
   "metadata": {},
   "source": [
    "#### Q2. `Pydantic`\n",
    "> Adaptada desse [tutorial de Pydantic](https://github.com/adonath/scipy-2023-pydantic-tutorial/tree/main) criado por [Axel Donath](https://github.com/adonath) e [Nick Langellier](https://github.com/nlangellier).\n",
    "\n",
    "Observe a seguinte lista de observações da previsão do tempo em Murmansk, Russia.\n",
    "```python\n",
    "data_samples = [\n",
    "    {\n",
    "        \"date\": \"2023-05-20\",\n",
    "        \"temperature\": 62.2,\n",
    "        \"isCelsius\": False,\n",
    "        \"airQualityIndex\": \"24\",\n",
    "        \"sunriseTime\": \"01:26\",\n",
    "        \"sunsetTime\": \"00:00\",\n",
    "    },\n",
    "    {\n",
    "        \"date\": \"2023-05-21\",\n",
    "        \"temperature\": \"64.4\",\n",
    "        \"isCelsius\": \"not true\",\n",
    "        \"airQualityIndex\": 23,\n",
    "        \"sunriseTime\": \"01:10\",\n",
    "        \"sunsetTime\": \"00:16\",\n",
    "    },\n",
    "    {\n",
    "        \"date\": \"2023-05-22\",\n",
    "        \"temperature\": 14.4,\n",
    "        \"airQualityIndex\": 21,\n",
    "    },\n",
    "]\n",
    "```\n",
    "\n",
    "Escreva um script que calcule e imprima a temperatura média (em Celsius) em Murmansk para as datas fornecidas. Em seu script, você deve incluir um modelo Pydantic que registre com sucesso todos os elementos dados. Note que:\n",
    "\n",
    "* Algumas amostras estão faltando dados. Você deve decidir quando o atributo pode ter um valor padrão ou quando definí-lo como opcional (`typing.Optional`). \n",
    "* Você precisará implementar pelo menos um validador de campo para transformar atributos. Dica: teste primeiro quais vão falhar :)\n",
    "\n"
   ]
  },
  {
   "cell_type": "code",
   "execution_count": 28,
   "metadata": {
    "vscode": {
     "languageId": "plaintext"
    }
   },
   "outputs": [
    {
     "name": "stdout",
     "output_type": "stream",
     "text": [
      "Temperatura original: 62.2 | isCelsius: False\n",
      "Temperatura original: 64.4 | isCelsius: False\n",
      "Temperatura original: 14.4 | isCelsius: True\n",
      "A temperatura média em Murmansk (em Celsius) é: 16.39°C\n"
     ]
    }
   ],
   "source": [
    "#### Escreva sua resposta aqui\n",
    "from typing import List, Dict\n",
    "\n",
    "# Função para converter Fahrenheit para Celsius\n",
    "def fahrenheit_to_celsius(fahrenheit: float) -> float:\n",
    "    return (fahrenheit - 32) * 5.0 / 9.0\n",
    "\n",
    "# Função para calcular a média da temperatura\n",
    "def calculate_average_temperature(data_samples: List[Dict]) -> float:\n",
    "    temperatures_in_celsius = []\n",
    "\n",
    "    for sample in data_samples:\n",
    "        # Obtém a temperatura e converte de string se necessário\n",
    "        temperature = sample.get('temperature')  \n",
    "        is_celsius = sample.get('isCelsius', True)  # Assume True se não fornecido\n",
    "        \n",
    "        if isinstance(temperature, str):\n",
    "            # Converte a temperatura se for uma string\n",
    "            temperature = float(temperature)\n",
    "        \n",
    "        if isinstance(is_celsius, str) and is_celsius.lower() == \"not true\":\n",
    "            is_celsius = False  # Caso 'not true', devemos interpretar como False\n",
    "        \n",
    "        # Debug: exibe os valores antes de qualquer operação\n",
    "        print(f\"Temperatura original: {temperature} | isCelsius: {is_celsius}\")\n",
    "\n",
    "        if not is_celsius:\n",
    "            # Se a temperatura estiver em Fahrenheit, converte para Celsius\n",
    "            temperature = fahrenheit_to_celsius(temperature)\n",
    "\n",
    "        temperatures_in_celsius.append(temperature)\n",
    "\n",
    "    # Calcula a média\n",
    "    average_temperature = sum(temperatures_in_celsius) / len(temperatures_in_celsius)\n",
    "    return average_temperature\n",
    "\n",
    "# Lista de amostras de dados fornecidos\n",
    "data_samples = [\n",
    "    {\n",
    "        \"date\": \"2023-05-20\",\n",
    "        \"temperature\": 62.2,\n",
    "        \"isCelsius\": False,\n",
    "        \"airQualityIndex\": \"24\",\n",
    "        \"sunriseTime\": \"01:26\",\n",
    "        \"sunsetTime\": \"00:00\",\n",
    "    },\n",
    "    {\n",
    "        \"date\": \"2023-05-21\",\n",
    "        \"temperature\": \"64.4\",  # Será convertido para float\n",
    "        \"isCelsius\": \"not true\",  # Será convertido para False\n",
    "        \"airQualityIndex\": 23,\n",
    "        \"sunriseTime\": \"01:10\",\n",
    "        \"sunsetTime\": \"00:16\",\n",
    "    },\n",
    "    {\n",
    "        \"date\": \"2023-05-22\",\n",
    "        \"temperature\": 14.4,\n",
    "        \"airQualityIndex\": 21,\n",
    "    },\n",
    "]\n",
    "\n",
    "# Calcular e imprimir a temperatura média\n",
    "average_temp = calculate_average_temperature(data_samples)\n",
    "print(f\"A temperatura média em Murmansk (em Celsius) é: {average_temp:.2f}°C\")"
   ]
  },
  {
   "cell_type": "markdown",
   "metadata": {},
   "source": [
    "#### Q3\n",
    "> Adaptada desse [tutorial de Pydantic](https://github.com/adonath/scipy-2023-pydantic-tutorial/tree/main) criado por [Axel Donath](https://github.com/adonath) e [Nick Langellier](https://github.com/nlangellier).\n",
    "\n",
    "Na célula a seguir, coletamos dados reais de uma das principais APIs de previsão do tempo, [open-meteo](https://open-meteo.com/en/docs). Não se preocupe em entender esse código, o mais importante é entender o resultado que ele retorna, ilustrado a seguir para uma coleta da temperatura dos últimos 15 dias em Itabira -MG. Caso deseje alterar a cidade de coleta, basta alimentar a latitude e longitude desejada, como nas opções a seguir.\n",
    "* Itabira: `'latitude': -19.656655787605846, 'longitude': -43.228922960534476`\n",
    "* Bom Despacho: `'latitude': -19.726308457732443, 'longitude': -45.27462803349767`\n",
    "\n",
    "```python\n",
    "{\n",
    "  \"latitude\": -19.5,\n",
    "  \"longitude\": -43.375,\n",
    "  \"generationtime_ms\": 0.01800060272216797,\n",
    "  \"utc_offset_seconds\": 0,\n",
    "  \"timezone\": \"GMT\",\n",
    "  \"timezone_abbreviation\": \"GMT\",\n",
    "  \"elevation\": 2.0,\n",
    "  \"hourly_units\": {\n",
    "    \"time\": \"iso8601\",\n",
    "    \"temperature_2m\": \"\\u00b0C\"\n",
    "  },\n",
    "  \"hourly\": {\n",
    "    \"time\": [\n",
    "      \"2024-07-19T00:00\",\n",
    "      \"2024-07-19T01:00\",\n",
    "      \"2024-07-19T02:00\",\n",
    "      ...\n",
    "    ],\n",
    "    \"temperature_2m\": [\n",
    "      21.9,\n",
    "      20.9,\n",
    "      20.0,\n",
    "      ... \n",
    "    ]\n",
    "  }\n",
    "}\n",
    "```\n",
    "\n",
    "Você deve escrever um modelo Pydantic `OpenMeteo` que receba diretamente a resposta dessa API, através do comando:\n",
    "```python\n",
    "dados = OpenMeteo(**response)\n",
    "``` \n",
    "\n",
    "Para comportar a estrutura hierárquica desse dicionário (é um dicionário com alguns dicionários internos), você deve criar uma classe Pydantic para cada dicionário interno (`HourlyUnits` e `Hourly`), com seus respectivos atributos. Essas classes serão atributos da classe principal `OpenMeteo`, que terá também os outros atributos da resposta (`latitude`, `longitude`, etc.).\n",
    "\n"
   ]
  },
  {
   "cell_type": "code",
   "execution_count": null,
   "metadata": {
    "vscode": {
     "languageId": "plaintext"
    }
   },
   "outputs": [],
   "source": [
    "import requests, json\n",
    "\n",
    "url = 'https://api.open-meteo.com/v1/forecast'\n",
    "lat, long = -19.656655787605846, -43.228922960534476\n",
    "params = {'latitude': lat, 'longitude': long, 'elevation': 2,\n",
    "          'hourly': 'temperature_2m', 'forecast_days': 15}\n",
    "response = requests.get(url, params=params).json()\n",
    "print(json.dumps(response, indent=2))"
   ]
  },
  {
   "cell_type": "code",
   "execution_count": 29,
   "metadata": {
    "vscode": {
     "languageId": "plaintext"
    }
   },
   "outputs": [
    {
     "name": "stdout",
     "output_type": "stream",
     "text": [
      "-19.5\n",
      "[21.9, 20.9, 20.0]\n"
     ]
    }
   ],
   "source": [
    "#### Escreva aqui seus modelos Pydantic\n",
    "from pydantic import BaseModel\n",
    "from typing import List\n",
    "from datetime import datetime\n",
    "\n",
    "# Classe para a unidade de medida (HourlyUnits)\n",
    "class HourlyUnits(BaseModel):\n",
    "    time: str\n",
    "    temperature_2m: str\n",
    "\n",
    "# Classe para os dados horários (Hourly)\n",
    "class Hourly(BaseModel):\n",
    "    time: List[datetime]\n",
    "    temperature_2m: List[float]\n",
    "\n",
    "# Classe principal para a resposta do OpenMeteo\n",
    "class OpenMeteo(BaseModel):\n",
    "    latitude: float\n",
    "    longitude: float\n",
    "    generationtime_ms: float\n",
    "    utc_offset_seconds: int\n",
    "    timezone: str\n",
    "    timezone_abbreviation: str\n",
    "    elevation: float\n",
    "    hourly_units: HourlyUnits\n",
    "    hourly: Hourly\n",
    "\n",
    "# Suponha que você tenha a resposta da API em um dicionário chamado 'response'\n",
    "# Exemplo de como você pode usar esse modelo Pydantic\n",
    "\n",
    "response = {\n",
    "    \"latitude\": -19.5,\n",
    "    \"longitude\": -43.375,\n",
    "    \"generationtime_ms\": 0.01800060272216797,\n",
    "    \"utc_offset_seconds\": 0,\n",
    "    \"timezone\": \"GMT\",\n",
    "    \"timezone_abbreviation\": \"GMT\",\n",
    "    \"elevation\": 2.0,\n",
    "    \"hourly_units\": {\n",
    "        \"time\": \"iso8601\",\n",
    "        \"temperature_2m\": \"\\u00b0C\"\n",
    "    },\n",
    "    \"hourly\": {\n",
    "        \"time\": [\n",
    "            \"2024-07-19T00:00\", \n",
    "            \"2024-07-19T01:00\", \n",
    "            \"2024-07-19T02:00\"\n",
    "            # mais tempos aqui...\n",
    "        ],\n",
    "        \"temperature_2m\": [\n",
    "            21.9, \n",
    "            20.9, \n",
    "            20.0\n",
    "            # mais temperaturas aqui...\n",
    "        ]\n",
    "    }\n",
    "}\n",
    "\n",
    "# Criar o objeto OpenMeteo a partir da resposta\n",
    "dados = OpenMeteo(**response)\n",
    "\n",
    "# Agora você pode acessar os dados processados como atributos Python\n",
    "print(dados.latitude)\n",
    "print(dados.hourly.temperature_2m)\n"
   ]
  },
  {
   "cell_type": "markdown",
   "metadata": {},
   "source": [
    "#### Q4. \n",
    "\n",
    "Com os dados carregados na questão anterior plote um gráfico de linha, com a biblioteca de sua preferência, onde o eixo `x` são os timestamps (data e hora) e o eixo `y` é a temperatura medida."
   ]
  },
  {
   "cell_type": "code",
   "execution_count": 1,
   "metadata": {
    "vscode": {
     "languageId": "plaintext"
    }
   },
   "outputs": [
    {
     "data": {
      "image/png": "[encoded data removed]",
      "text/plain": [
       "<Figure size 1000x600 with 1 Axes>"
      ]
     },
     "metadata": {},
     "output_type": "display_data"
    }
   ],
   "source": [
    "#### Escreva aqui a sua resposta\n",
    "import matplotlib.pyplot as plt\n",
    "import pandas as pd\n",
    "from datetime import datetime\n",
    "\n",
    "# Dados simulados da API\n",
    "dados = {\n",
    "    \"latitude\": -19.5,\n",
    "    \"longitude\": -43.375,\n",
    "    \"generationtime_ms\": 0.01800060272216797,\n",
    "    \"utc_offset_seconds\": 0,\n",
    "    \"timezone\": \"GMT\",\n",
    "    \"timezone_abbreviation\": \"GMT\",\n",
    "    \"elevation\": 2.0,\n",
    "    \"hourly_units\": {\n",
    "        \"time\": \"iso8601\",\n",
    "        \"temperature_2m\": \"\\u00b0C\"\n",
    "    },\n",
    "    \"hourly\": {\n",
    "        \"time\": [\n",
    "            \"2024-07-19T00:00\",\n",
    "            \"2024-07-19T01:00\",\n",
    "            \"2024-07-19T02:00\"\n",
    "        ],\n",
    "        \"temperature_2m\": [\n",
    "            21.9,\n",
    "            20.9,\n",
    "            20.0\n",
    "        ]\n",
    "    }\n",
    "}\n",
    "\n",
    "# Convertendo as listas de dados para um DataFrame do pandas\n",
    "timestamps = [datetime.fromisoformat(t) for t in dados['hourly']['time']]\n",
    "temperaturas = dados['hourly']['temperature_2m']\n",
    "\n",
    "# Criando um DataFrame para fácil manipulação\n",
    "df = pd.DataFrame({\n",
    "    'timestamp': timestamps,\n",
    "    'temperatura': temperaturas\n",
    "})\n",
    "\n",
    "# Plotando o gráfico\n",
    "plt.figure(figsize=(10, 6))\n",
    "plt.plot(df['timestamp'], df['temperatura'], marker='o', color='b', linestyle='-', label='Temperatura (°C)')\n",
    "plt.title('Temperatura ao Longo do Tempo')\n",
    "plt.xlabel('Data e Hora')\n",
    "plt.ylabel('Temperatura (°C)')\n",
    "plt.xticks(rotation=45)\n",
    "plt.grid(True)\n",
    "plt.legend()\n",
    "plt.tight_layout()\n",
    "\n",
    "# Exibindo o gráfico\n",
    "plt.show()\n"
   ]
  },
  {
   "cell_type": "code",
   "execution_count": null,
   "metadata": {},
   "outputs": [],
   "source": []
  }
 ],
 "metadata": {
  "kernelspec": {
   "display_name": "Python 3 (ipykernel)",
   "language": "python",
   "name": "python3"
  },
  "language_info": {
   "codemirror_mode": {
    "name": "ipython",
    "version": 3
   },
   "file_extension": ".py",
   "mimetype": "text/x-python",
   "name": "python",
   "nbconvert_exporter": "python",
   "pygments_lexer": "ipython3",
   "version": "3.12.4"
  }
 },
 "nbformat": 4,
 "nbformat_minor": 4
}
