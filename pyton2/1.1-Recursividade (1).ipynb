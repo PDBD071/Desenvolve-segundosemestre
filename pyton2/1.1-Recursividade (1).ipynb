{
 "cells": [
  {
   "cell_type": "markdown",
   "id": "c87bc264",
   "metadata": {},
   "source": [
    "> Projeto Desenvolve <br>\n",
    "Programação Intermediária com Python <br>\n",
    "Profa. Camila Laranjeira (mila@projetodesenvolve.com.br) <br>\n",
    "\n",
    "# 1.1 - Recursividade"
   ]
  },
  {
   "cell_type": "markdown",
   "id": "02e47197",
   "metadata": {},
   "source": [
    "## Exercícios:\n",
    "\n",
    "#### **Q1**. \n",
    "Faça um procedimento recursivo que receba dois valores inteiros `a` e `b` e imprime o intervalo fechado entre eles. Se `a > b` imprima uma mensagem de erro.\n",
    "\n",
    "| Entrada |  Saída |\n",
    "| ------- | ------ |\n",
    "| 1 10    | 1 2 3 4 5 6 7 8 9 10 |\n",
    "| -5 1    | -5 -4 -3 -2 -1 |\n",
    "| 5 -5    | Valores invalidos |\n",
    "| 17 20   | 17 18 19 20 |"
   ]
  },
  {
   "cell_type": "code",
   "execution_count": 1,
   "id": "e89a9966",
   "metadata": {},
   "outputs": [
    {
     "name": "stdout",
     "output_type": "stream",
     "text": [
      "1 2 3 4 5 6 7 8 9 10\n",
      "\n",
      "-5 -4 -3 -2 -1 0 1\n",
      "\n",
      "Valores invalidos\n",
      "\n",
      "17 18 19 20\n"
     ]
    }
   ],
   "source": [
    "def imprimir_intervalo(a, b):\n",
    "    # Verifica se a > b e imprime uma mensagem de erro\n",
    "    if a > b:\n",
    "        print(\"Valores invalidos\")\n",
    "        return\n",
    "    # Caso base: quando a for igual a b, imprime o número e termina a recursão\n",
    "    elif a == b:\n",
    "        print(a)\n",
    "        return\n",
    "    # Caso recursivo: imprime o número atual e chama a função recursivamente com a+1\n",
    "    else:\n",
    "        print(a, end=\" \")\n",
    "        imprimir_intervalo(a + 1, b)\n",
    "\n",
    "# Testes conforme o exemplo fornecido\n",
    "entrada1 = (1, 10)\n",
    "entrada2 = (-5, 1)\n",
    "entrada3 = (5, -5)\n",
    "entrada4 = (17, 20)\n",
    "\n",
    "# Chamada da função para cada entrada\n",
    "imprimir_intervalo(*entrada1)  # Saída esperada: 1 2 3 4 5 6 7 8 9 10\n",
    "print()  # Apenas para pular uma linha entre as saídas\n",
    "imprimir_intervalo(*entrada2)  # Saída esperada: -5 -4 -3 -2 -1\n",
    "print()\n",
    "imprimir_intervalo(*entrada3)  # Saída esperada: Valores invalidos\n",
    "print()\n",
    "imprimir_intervalo(*entrada4)  # Saída esperada: 17 18 19 20\n"
   ]
  },
  {
   "cell_type": "markdown",
   "id": "b48196ed",
   "metadata": {},
   "source": [
    "---\n",
    "\n",
    "\n",
    "#### **Q2**. \n",
    "Mudando **apenas uma linha**, altere o código anterior para imprimir o intervalo invertido.\n",
    "\n",
    "| Entrada |  Saída |\n",
    "| ------- | ------ |\n",
    "| 1 10    | 10 9 8 7 6 5 4 3 2 1 |\n",
    "| -5 1    | -1 -2 -3 -4 -5 |\n",
    "| 5 -5    | Valores invalidos |\n",
    "| 17 20   | 20 19 18 17 |"
   ]
  },
  {
   "cell_type": "code",
   "execution_count": 2,
   "id": "4d0c21b4",
   "metadata": {},
   "outputs": [
    {
     "name": "stdout",
     "output_type": "stream",
     "text": [
      "Valores invalidos\n",
      "\n",
      "Valores invalidos\n",
      "\n",
      "5 4 3 2 1 0 -1 -2 -3 -4 -5\n",
      "\n",
      "Valores invalidos\n"
     ]
    }
   ],
   "source": [
    "def imprimir_intervalo_invertido(a, b):\n",
    "    # Verifica se a > b e imprime uma mensagem de erro\n",
    "    if a < b:\n",
    "        print(\"Valores invalidos\")\n",
    "        return\n",
    "    # Caso base: quando a for igual a b, imprime o número e termina a recursão\n",
    "    elif a == b:\n",
    "        print(a)\n",
    "        return\n",
    "    # Caso recursivo: imprime o número atual e chama a função recursivamente com a-1\n",
    "    else:\n",
    "        print(a, end=\" \")\n",
    "        imprimir_intervalo_invertido(a - 1, b)\n",
    "\n",
    "# Testes conforme o exemplo fornecido\n",
    "entrada1 = (1, 10)\n",
    "entrada2 = (-5, 1)\n",
    "entrada3 = (5, -5)\n",
    "entrada4 = (17, 20)\n",
    "\n",
    "# Chamada da função para cada entrada\n",
    "imprimir_intervalo_invertido(*entrada1)  # Saída esperada: 10 9 8 7 6 5 4 3 2 1\n",
    "print()  # Apenas para pular uma linha entre as saídas\n",
    "imprimir_intervalo_invertido(*entrada2)  # Saída esperada: -1 -2 -3 -4 -5\n",
    "print()\n",
    "imprimir_intervalo_invertido(*entrada3)  # Saída esperada: Valores invalidos\n",
    "print()\n",
    "imprimir_intervalo_invertido(*entrada4)  # Saída esperada: 20 19 18 17\n"
   ]
  },
  {
   "cell_type": "markdown",
   "id": "be727074",
   "metadata": {},
   "source": [
    "\n",
    "\n",
    "---\n",
    "\n",
    "\n",
    "#### **Q3**. \n",
    "Escreva uma função recursiva que recebe um inteiro `n > 1` e calcula a soma dos valores entre `n` e `1`.\n",
    "\n",
    "| Entrada |  Saída |\n",
    "| ------- | ------ |\n",
    "| 5   | 15 |\n",
    "| 13  | 78 |"
   ]
  },
  {
   "cell_type": "code",
   "execution_count": 21,
   "id": "c4da98b8",
   "metadata": {},
   "outputs": [
    {
     "name": "stdout",
     "output_type": "stream",
     "text": [
      "Resultado para n=5: 15\n",
      "Resultado para n=13: 91\n"
     ]
    }
   ],
   "source": [
    "def soma_recursiva(n):\n",
    "    \"\"\"Calcula a soma dos números de 1 até n de forma recursiva.\n",
    "\n",
    "    Args:\n",
    "        n: Um número inteiro maior que 1.\n",
    "\n",
    "    Returns:\n",
    "        A soma dos números de 1 até n.\n",
    "    \"\"\"\n",
    "    if n == 1:\n",
    "        return 1  # Caso base\n",
    "    else:\n",
    "        return n + soma_recursiva(n - 1)  # Recursão: soma n com o resultado de soma_recursiva(n-1)\n",
    "\n",
    "# Teste para n = 5\n",
    "resultado1 = soma_recursiva(5)\n",
    "print(f\"Resultado para n=5: {resultado1}\")  # Saída esperada: 15\n",
    "\n",
    "# Teste para n = 13\n",
    "resultado2 = soma_recursiva(13)\n",
    "print(f\"Resultado para n=13: {resultado2}\")  # Saída esperada: 78\n"
   ]
  },
  {
   "cell_type": "markdown",
   "id": "4142b276",
   "metadata": {},
   "source": [
    "\n",
    "\n",
    "---\n",
    "\n",
    "\n",
    "#### **Q4**.  \n",
    "\n",
    "Escreva uma função recursiva que recebe um inteiro `n` e verifica se `n`é um valor primo, ou seja, se é divisível apenas por si mesmo e por `1`."
   ]
  },
  {
   "cell_type": "code",
   "execution_count": 22,
   "id": "4c96eb2d",
   "metadata": {},
   "outputs": [
    {
     "name": "stdout",
     "output_type": "stream",
     "text": [
      "True\n",
      "False\n"
     ]
    }
   ],
   "source": [
    "import math\n",
    "\n",
    "def eh_primo(n, divisor=2):\n",
    "  \"\"\"Verifica recursivamente se um número é primo.\n",
    "\n",
    "  Args:\n",
    "    n: O número a ser verificado.\n",
    "    divisor: O divisor a ser testado.\n",
    "\n",
    "  Returns:\n",
    "    True se n for primo, False caso contrário.\n",
    "  \"\"\"\n",
    "\n",
    "  if n <= 1:\n",
    "    return False\n",
    "  elif n == 2:\n",
    "    return True\n",
    "  elif n % divisor == 0:\n",
    "    return False\n",
    "  elif divisor * divisor > n:\n",
    "    return True\n",
    "  else:\n",
    "    return eh_primo(n, divisor + 1)\n",
    "\n",
    "# Exemplos de uso:\n",
    "print(eh_primo(7))  # Saída: True\n",
    "print(eh_primo(12))  # Saída: False"
   ]
  },
  {
   "cell_type": "markdown",
   "id": "2a0ae81c",
   "metadata": {},
   "source": [
    "\n",
    "\n",
    "---\n",
    "\n",
    "\n",
    "#### **Q5**. \n",
    "Implemente uma função recursiva que recebe um número inteiro decimal e retorna sua representação binária como uma string. Para realizar essa conversão, utilize o método de divisão sucessiva, onde você divide o número decimal por 2 e coleta os restos até que o quociente seja zero. A ordem dos restos coletados, de baixo para cima, forma o número binário correspondente.\n",
    "\n",
    "**Exemplo de Conversão:**\n",
    "\n",
    "Para converter o número decimal 13 para binário:\n",
    "```\n",
    "13 ÷ 2 = 6, resto 1\n",
    "6 ÷ 2 = 3, resto 0\n",
    "3 ÷ 2 = 1, resto 1\n",
    "1 ÷ 2 = 0, resto 1\n",
    "```\n",
    "Lendo os restos de baixo para cima, obtemos o número binário `1101`."
   ]
  },
  {
   "cell_type": "code",
   "execution_count": 23,
   "id": "a7d954f0",
   "metadata": {},
   "outputs": [
    {
     "name": "stdout",
     "output_type": "stream",
     "text": [
      "1101\n",
      "101\n",
      "0\n",
      "1\n",
      "1010\n"
     ]
    }
   ],
   "source": [
    "def decimal_para_binario(n):\n",
    "    \"\"\"Função recursiva para converter um número decimal para binário.\n",
    "    \n",
    "    Args:\n",
    "        n: Número inteiro decimal.\n",
    "    \n",
    "    Returns:\n",
    "        A representação binária do número como uma string.\n",
    "    \"\"\"\n",
    "    # Caso base: se o número for 0, a representação binária é \"0\"\n",
    "    if n == 0:\n",
    "        return \"0\"\n",
    "    \n",
    "    # Caso base: se o número for 1, a representação binária é \"1\"\n",
    "    if n == 1:\n",
    "        return \"1\"\n",
    "    \n",
    "    # Chamada recursiva: divide o número por 2 e concatena o resto\n",
    "    return decimal_para_binario(n // 2) + str(n % 2)\n",
    "\n",
    "# Testando a função com alguns exemplos\n",
    "print(decimal_para_binario(13))  # Esperado: 1101\n",
    "print(decimal_para_binario(5))   # Esperado: 101\n",
    "print(decimal_para_binario(0))   # Esperado: 0\n",
    "print(decimal_para_binario(1))   # Esperado: 1\n",
    "print(decimal_para_binario(10))  # Esperado: 1010\n"
   ]
  },
  {
   "cell_type": "markdown",
   "id": "0f500709",
   "metadata": {},
   "source": [
    "\n",
    "\n",
    "---\n",
    "\n",
    "\n",
    "#### **Extra**: \n",
    "\n",
    "Implemente uma função recursiva em Python que realiza a travessia em pré-ordem de uma árvore binária representada por listas aninhadas. Na travessia em pré-ordem (ou pré-fixada), o nó raiz é visitado primeiro, seguido pela subárvore esquerda e, por fim, pela subárvore direita. A questão fixa as constantes `RAIZ_IDX, ESQ_IDX, DIR_IDX` representando os índices da lista onde se encontra o valor raíz, o nó a esquerda e o nó a direita.\n",
    "\n",
    "```\n",
    "# Representação visual da árvore\n",
    "       4\n",
    "      / \\\n",
    "     2   5\n",
    "    / \\\n",
    "   1   3\n",
    "```"
   ]
  },
  {
   "cell_type": "code",
   "execution_count": 24,
   "id": "10df4831",
   "metadata": {},
   "outputs": [
    {
     "name": "stdout",
     "output_type": "stream",
     "text": [
      "Travessia em pré-ordem: [4, 2, 1, 3, 5]\n"
     ]
    }
   ],
   "source": [
    "RAIZ_IDX, ESQ_IDX, DIR_IDX = 0, 1, 2\n",
    "\n",
    "arvore = [\n",
    "    4,              # raíz, nível 0\n",
    "    [               # ramo da esquerda, nível 1\n",
    "        2,          # valor filho esquerda\n",
    "        [1, None, None],   # ramo da esquerda, nível 2\n",
    "        [3, None, None]    # ramo da direita, nível 2\n",
    "    ],\n",
    "    [               # ramo da direita, nível 1\n",
    "        5,          # valor filho da direita\n",
    "        None,              # ramo da esquerda, nível 2\n",
    "        None               # ramo da direita, nível 2\n",
    "    ]\n",
    "]\n",
    "\n",
    "# Definição dos índices para facilitar o código\n",
    "RAIZ_IDX = 0  # Índice da raiz\n",
    "ESQ_IDX = 1   # Índice da subárvore esquerda\n",
    "DIR_IDX = 2   # Índice da subárvore direita\n",
    "\n",
    "def travessia_pre_ordem(arvore):\n",
    "    \"\"\"Função recursiva para realizar a travessia em pré-ordem em uma árvore binária representada por listas aninhadas.\n",
    "    \n",
    "    Args:\n",
    "        arvore (list): Representação da árvore binária como lista [raiz, subárvore_esquerda, subárvore_direita].\n",
    "    \n",
    "    Returns:\n",
    "        list: Lista com a ordem dos nós visitados em pré-ordem.\n",
    "    \"\"\"\n",
    "    # Caso base: se a árvore for None, não há mais nada a ser visitado\n",
    "    if arvore is None:\n",
    "        return []\n",
    "    \n",
    "    # Caso recursivo: visita a raiz, a subárvore esquerda e a subárvore direita\n",
    "    raiz = arvore[RAIZ_IDX]\n",
    "    esq = arvore[ESQ_IDX]\n",
    "    dir = arvore[DIR_IDX]\n",
    "    \n",
    "    # Primeiro visita a raiz, depois a subárvore esquerda e por fim a subárvore direita\n",
    "    return [raiz] + travessia_pre_ordem(esq) + travessia_pre_ordem(dir)\n",
    "\n",
    "# Exemplo de uso com a árvore fornecida\n",
    "arvore = [\n",
    "    4,              # raiz, nível 0\n",
    "    [               # ramo da esquerda, nível 1\n",
    "        2,          # valor filho esquerda\n",
    "        [1, None, None],   # ramo da esquerda, nível 2\n",
    "        [3, None, None]    # ramo da direita, nível 2\n",
    "    ],\n",
    "    [               # ramo da direita, nível 1\n",
    "        5,          # valor filho da direita\n",
    "        None,       # ramo da esquerda, nível 2\n",
    "        None        # ramo da direita, nível 2\n",
    "    ]\n",
    "]\n",
    "\n",
    "# Realizando a travessia em pré-ordem\n",
    "resultado = travessia_pre_ordem(arvore)\n",
    "print(\"Travessia em pré-ordem:\", resultado)\n"
   ]
  },
  {
   "cell_type": "code",
   "execution_count": null,
   "id": "7158dd34-4ab8-47c7-89cc-8625c5d2286a",
   "metadata": {},
   "outputs": [],
   "source": []
  }
 ],
 "metadata": {
  "kernelspec": {
   "display_name": "Python 3 (ipykernel)",
   "language": "python",
   "name": "python3"
  },
  "language_info": {
   "codemirror_mode": {
    "name": "ipython",
    "version": 3
   },
   "file_extension": ".py",
   "mimetype": "text/x-python",
   "name": "python",
   "nbconvert_exporter": "python",
   "pygments_lexer": "ipython3",
   "version": "3.12.4"
  }
 },
 "nbformat": 4,
 "nbformat_minor": 5
}
