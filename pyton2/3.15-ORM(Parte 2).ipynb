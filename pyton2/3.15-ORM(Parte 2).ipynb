{
 "cells": [
  {
   "cell_type": "markdown",
   "metadata": {},
   "source": [
    "## Exercícios\n",
    "\n",
    "> Retirados de [learn-python: sqlalchemy_orm-questions](https://aviadr1.github.io/learn-advanced-python/11_db_access/exercise/sqlalchemy_orm-questions.html).\n",
    "\n",
    "#### Q1.\n",
    "\n",
    "Baixa e extraia o arquivo compactado com o banco de dados [Chinook database](https://www.sqlitetutorial.net/sqlite-sample-database/). Salve o arquivo `chinook.db` na mesma pasta deste script.\n",
    "* Link para baixar: http://www.sqlitetutorial.net/wp-content/uploads/2018/03/chinook.zip\n",
    "\n",
    "<img width=500 src=https://www.sqlitetutorial.net/wp-content/uploads/2015/11/sqlite-sample-database-color.jpg>\n"
   ]
  },
  {
   "cell_type": "code",
   "execution_count": 1,
   "metadata": {},
   "outputs": [
    {
     "name": "stdout",
     "output_type": "stream",
     "text": [
      "Arquivo ZIP baixado com sucesso.\n",
      "Arquivo extraído com sucesso.\n",
      "O arquivo 'chinook.db' não foi encontrado.\n"
     ]
    }
   ],
   "source": [
    "import requests\n",
    "import zipfile\n",
    "import os\n",
    "\n",
    "# URL do arquivo ZIP do banco de dados Chinook\n",
    "url = \"http://www.sqlitetutorial.net/wp-content/uploads/2018/03/chinook.zip\"\n",
    "\n",
    "# Nome do arquivo ZIP a ser baixado\n",
    "zip_file_name = \"chinook.zip\"\n",
    "\n",
    "# Baixar o arquivo ZIP\n",
    "response = requests.get(url)\n",
    "with open(zip_file_name, \"wb\") as file:\n",
    "    file.write(response.content)\n",
    "\n",
    "print(\"Arquivo ZIP baixado com sucesso.\")\n",
    "\n",
    "# Extrair o conteúdo do ZIP\n",
    "with zipfile.ZipFile(zip_file_name, \"r\") as zip_ref:\n",
    "    zip_ref.extractall(\".\")\n",
    "\n",
    "print(\"Arquivo extraído com sucesso.\")\n",
    "\n",
    "# Verificar se o arquivo chinook.db foi salvo\n",
    "if os.path.exists(\"Chinook_Sqlite_AutoIncrementPKs.sqlite\"):\n",
    "    os.rename(\"Chinook_Sqlite_AutoIncrementPKs.sqlite\", \"chinook.db\")\n",
    "    print(\"Banco de dados salvo como 'chinook.db'.\")\n",
    "else:\n",
    "    print(\"O arquivo 'chinook.db' não foi encontrado.\")\n"
   ]
  },
  {
   "cell_type": "markdown",
   "metadata": {},
   "source": [
    "#### Q2.\n",
    "\n",
    "Leia o código e os comentários das células a seguir para entender como acessamos os modelos ORM de um banco já existente."
   ]
  },
  {
   "cell_type": "code",
   "execution_count": null,
   "metadata": {
    "vscode": {
     "languageId": "plaintext"
    }
   },
   "outputs": [],
   "source": [
    "from sqlalchemy import create_engine, text, MetaData\n",
    "from sqlalchemy.orm import Session\n",
    "\n",
    "engine = create_engine(\"sqlite+pysqlite:///chinook.db\", echo=False)\n",
    "\n",
    "### extrai as classes da base de dados Chinook\n",
    "metadata = MetaData()\n",
    "metadata.reflect(engine)\n",
    "\n",
    "# O metadata tem informações sobre as tabelas\n",
    "# que serão usadas para criar os modelos ORM\n",
    "for table_name, table in metadata.tables.items():\n",
    "    print(table_name)\n",
    "    print(table.columns.keys())\n",
    "    print(table.columns.items())\n",
    "    print('-'*25)\n",
    "\n",
    "### configura o objeto Base mapeando os modelos ORM das tabelas\n",
    "from sqlalchemy.ext.automap import automap_base\n",
    "Base = automap_base(metadata=metadata)\n",
    "Base.prepare()\n",
    "\n",
    "# o objeto Base tem os modelos ORM que podemos usar\n",
    "# para manipular o banco de dados\n",
    "print(Base.classes.items())"
   ]
  },
  {
   "cell_type": "code",
   "execution_count": null,
   "metadata": {
    "vscode": {
     "languageId": "plaintext"
    }
   },
   "outputs": [],
   "source": [
    "# A seguir um exemplo de query na tabela Albums\n",
    "# usamos o objeto Base para acessar cada modelo ORM.\n",
    "\n",
    "session = Session(engine)\n",
    "res = session.scalars(select(Base.classes.albums))\n",
    "first_album = res.first()\n",
    "print(first_album.AlbumId, first_album.Title)"
   ]
  },
  {
   "cell_type": "markdown",
   "metadata": {},
   "source": [
    "#### Q3. \n",
    "Com base nos códigos anteriores realize as operações solicitadas nas células a seguir:\n"
   ]
  },
  {
   "cell_type": "code",
   "execution_count": 9,
   "metadata": {
    "vscode": {
     "languageId": "plaintext"
    }
   },
   "outputs": [
    {
     "name": "stdout",
     "output_type": "stream",
     "text": [
      "TrackId: 1, Name: For Those About To Rock (We Salute You), AlbumId: 1, MediaTypeId: 1, GenreId: 1\n",
      "TrackId: 2, Name: Balls to the Wall, AlbumId: 2, MediaTypeId: 2, GenreId: 1\n",
      "TrackId: 3, Name: Fast As a Shark, AlbumId: 3, MediaTypeId: 2, GenreId: 1\n"
     ]
    }
   ],
   "source": [
    "### Imprima os três primeiros registros da tabela tracks\n",
    "from sqlalchemy import create_engine, MetaData, select\n",
    "from sqlalchemy.orm import Session\n",
    "from sqlalchemy.ext.automap import automap_base\n",
    "\n",
    "# Configurar a engine para conectar ao banco chinook.db\n",
    "engine = create_engine(\"sqlite+pysqlite:///chinook.db\", echo=False)\n",
    "\n",
    "# Carregar metadados e refletir tabelas existentes\n",
    "metadata = MetaData()\n",
    "metadata.reflect(engine)\n",
    "\n",
    "# Configurar ORM automaticamente com automap_base\n",
    "Base = automap_base(metadata=metadata)\n",
    "Base.prepare()\n",
    "\n",
    "# Criar uma sessão para realizar consultas\n",
    "session = Session(engine)\n",
    "\n",
    "# Query para selecionar registros da tabela 'tracks'\n",
    "res = session.scalars(select(Base.classes.tracks))\n",
    "\n",
    "# Imprimir os três primeiros registros\n",
    "for i, track in enumerate(res, start=1):\n",
    "    print(f\"TrackId: {track.TrackId}, Name: {track.Name}, AlbumId: {track.AlbumId}, MediaTypeId: {track.MediaTypeId}, GenreId: {track.GenreId}\")\n",
    "    if i == 3:  # Parar após os três primeiros registros\n",
    "        break\n",
    "\n",
    "# Fechar a sessão\n",
    "session.close()"
   ]
  },
  {
   "cell_type": "code",
   "execution_count": 10,
   "metadata": {
    "vscode": {
     "languageId": "plaintext"
    }
   },
   "outputs": [
    {
     "name": "stdout",
     "output_type": "stream",
     "text": [
      "Track Name: For Those About To Rock (We Salute You), Album Title: For Those About To Rock We Salute You\n",
      "Track Name: Put The Finger On You, Album Title: For Those About To Rock We Salute You\n",
      "Track Name: Let's Get It Up, Album Title: For Those About To Rock We Salute You\n",
      "Track Name: Inject The Venom, Album Title: For Those About To Rock We Salute You\n",
      "Track Name: Snowballed, Album Title: For Those About To Rock We Salute You\n",
      "Track Name: Evil Walks, Album Title: For Those About To Rock We Salute You\n",
      "Track Name: C.O.D., Album Title: For Those About To Rock We Salute You\n",
      "Track Name: Breaking The Rules, Album Title: For Those About To Rock We Salute You\n",
      "Track Name: Night Of The Long Knives, Album Title: For Those About To Rock We Salute You\n",
      "Track Name: Spellbound, Album Title: For Those About To Rock We Salute You\n",
      "Track Name: Balls to the Wall, Album Title: Balls to the Wall\n",
      "Track Name: Fast As a Shark, Album Title: Restless and Wild\n",
      "Track Name: Restless and Wild, Album Title: Restless and Wild\n",
      "Track Name: Princess of the Dawn, Album Title: Restless and Wild\n",
      "Track Name: Go Down, Album Title: Let There Be Rock\n",
      "Track Name: Dog Eat Dog, Album Title: Let There Be Rock\n",
      "Track Name: Let There Be Rock, Album Title: Let There Be Rock\n",
      "Track Name: Bad Boy Boogie, Album Title: Let There Be Rock\n",
      "Track Name: Problem Child, Album Title: Let There Be Rock\n",
      "Track Name: Overdose, Album Title: Let There Be Rock\n"
     ]
    }
   ],
   "source": [
    "### Imprima o nome da faixa e o título do álbum das primeiras 20 faixas na tabela tracks.\n",
    "from sqlalchemy import select\n",
    "from sqlalchemy.orm import Session\n",
    "\n",
    "# Criar uma sessão para realizar consultas\n",
    "session = Session(engine)\n",
    "\n",
    "# Query para selecionar os registros da tabela 'tracks' e 'albums'\n",
    "# Fazendo uma junção entre as tabelas tracks e albums para obter o título do álbum\n",
    "res = session.execute(\n",
    "    select(Base.classes.tracks.Name, Base.classes.albums.Title)\n",
    "    .join(Base.classes.albums, Base.classes.tracks.AlbumId == Base.classes.albums.AlbumId)\n",
    "    .limit(20)\n",
    ")\n",
    "\n",
    "# Imprimir o nome da faixa e o título do álbum\n",
    "for track, album in res:\n",
    "    print(f\"Track Name: {track}, Album Title: {album}\")\n",
    "\n",
    "# Fechar a sessão\n",
    "session.close()"
   ]
  },
  {
   "cell_type": "code",
   "execution_count": 11,
   "metadata": {
    "vscode": {
     "languageId": "plaintext"
    }
   },
   "outputs": [
    {
     "name": "stdout",
     "output_type": "stream",
     "text": [
      "Track Name: Balls to the Wall, Quantity Sold: 1\n",
      "Track Name: Restless and Wild, Quantity Sold: 1\n",
      "Track Name: Put The Finger On You, Quantity Sold: 1\n",
      "Track Name: Inject The Venom, Quantity Sold: 1\n",
      "Track Name: Evil Walks, Quantity Sold: 1\n",
      "Track Name: Breaking The Rules, Quantity Sold: 1\n",
      "Track Name: Dog Eat Dog, Quantity Sold: 1\n",
      "Track Name: Overdose, Quantity Sold: 1\n",
      "Track Name: Love In An Elevator, Quantity Sold: 1\n",
      "Track Name: Janie's Got A Gun, Quantity Sold: 1\n"
     ]
    }
   ],
   "source": [
    "### Imprima as 10 primeiras vendas de faixas da tabela invoice_items\n",
    "### Para essas 10 primeiras vendas, imprima os nomes das faixas vendidas e a quantidade vendida.\n",
    "from sqlalchemy import select\n",
    "from sqlalchemy.orm import Session\n",
    "\n",
    "# Criar uma sessão para realizar consultas\n",
    "session = Session(engine)\n",
    "\n",
    "# Query para selecionar os registros da tabela 'invoice_items' e 'tracks'\n",
    "# Fazendo uma junção entre as tabelas invoice_items e tracks para obter o nome da faixa\n",
    "res = session.execute(\n",
    "    select(Base.classes.invoice_items.Quantity, Base.classes.tracks.Name)\n",
    "    .join(Base.classes.tracks, Base.classes.invoice_items.TrackId == Base.classes.tracks.TrackId)\n",
    "    .limit(10)\n",
    ")\n",
    "\n",
    "# Imprimir os nomes das faixas e a quantidade vendida\n",
    "for quantity, track_name in res:\n",
    "    print(f\"Track Name: {track_name}, Quantity Sold: {quantity}\")\n",
    "\n",
    "# Fechar a sessão\n",
    "session.close()"
   ]
  },
  {
   "cell_type": "code",
   "execution_count": 12,
   "metadata": {
    "vscode": {
     "languageId": "plaintext"
    }
   },
   "outputs": [
    {
     "name": "stdout",
     "output_type": "stream",
     "text": [
      "Track Name: The Trooper, Quantity Sold: 5\n",
      "Track Name: Untitled, Quantity Sold: 4\n",
      "Track Name: The Number Of The Beast, Quantity Sold: 4\n",
      "Track Name: Sure Know Something, Quantity Sold: 4\n",
      "Track Name: Hallowed Be Thy Name, Quantity Sold: 4\n",
      "Track Name: Eruption, Quantity Sold: 4\n",
      "Track Name: Where Eagles Dare, Quantity Sold: 3\n",
      "Track Name: Welcome Home (Sanitarium), Quantity Sold: 3\n",
      "Track Name: Sweetest Thing, Quantity Sold: 3\n",
      "Track Name: Surrender, Quantity Sold: 3\n"
     ]
    }
   ],
   "source": [
    "### Imprima os nomes das 10 faixas mais vendidas e quantas vezes foram vendidas.\n",
    "from sqlalchemy import select, func\n",
    "from sqlalchemy.orm import Session\n",
    "\n",
    "# Criar uma sessão para realizar consultas\n",
    "session = Session(engine)\n",
    "\n",
    "# Query para selecionar as faixas mais vendidas, somando as quantidades vendidas\n",
    "res = session.execute(\n",
    "    select(Base.classes.tracks.Name, func.sum(Base.classes.invoice_items.Quantity).label('TotalSold'))\n",
    "    .join(Base.classes.invoice_items, Base.classes.tracks.TrackId == Base.classes.invoice_items.TrackId)\n",
    "    .group_by(Base.classes.tracks.Name)\n",
    "    .order_by(func.sum(Base.classes.invoice_items.Quantity).desc())\n",
    "    .limit(10)\n",
    ")\n",
    "\n",
    "# Imprimir o nome das faixas e a quantidade vendida\n",
    "for track_name, total_sold in res:\n",
    "    print(f\"Track Name: {track_name}, Quantity Sold: {total_sold}\")\n",
    "\n",
    "# Fechar a sessão\n",
    "session.close()"
   ]
  },
  {
   "cell_type": "code",
   "execution_count": 13,
   "metadata": {
    "vscode": {
     "languageId": "plaintext"
    }
   },
   "outputs": [
    {
     "name": "stdout",
     "output_type": "stream",
     "text": [
      "Artist Name: Iron Maiden, Quantity Sold: 140\n",
      "Artist Name: U2, Quantity Sold: 107\n",
      "Artist Name: Metallica, Quantity Sold: 91\n",
      "Artist Name: Led Zeppelin, Quantity Sold: 87\n",
      "Artist Name: Os Paralamas Do Sucesso, Quantity Sold: 45\n",
      "Artist Name: Deep Purple, Quantity Sold: 44\n",
      "Artist Name: Faith No More, Quantity Sold: 42\n",
      "Artist Name: Lost, Quantity Sold: 41\n",
      "Artist Name: Eric Clapton, Quantity Sold: 40\n",
      "Artist Name: R.E.M., Quantity Sold: 39\n"
     ]
    }
   ],
   "source": [
    "### Quem são os 10 artistas que mais venderam?\n",
    "### dica: você precisa juntar as tabelas invoice_items, tracks, albums e artists\n",
    "from sqlalchemy import select, func\n",
    "from sqlalchemy.orm import Session\n",
    "\n",
    "# Criar uma sessão para realizar consultas\n",
    "session = Session(engine)\n",
    "\n",
    "# Query para selecionar os artistas que mais venderam, somando as quantidades de faixas vendidas\n",
    "res = session.execute(\n",
    "    select(Base.classes.artists.Name, func.sum(Base.classes.invoice_items.Quantity).label('TotalSold'))\n",
    "    .join(Base.classes.tracks, Base.classes.invoice_items.TrackId == Base.classes.tracks.TrackId)\n",
    "    .join(Base.classes.albums, Base.classes.tracks.AlbumId == Base.classes.albums.AlbumId)\n",
    "    .join(Base.classes.artists, Base.classes.albums.ArtistId == Base.classes.artists.ArtistId)\n",
    "    .group_by(Base.classes.artists.Name)\n",
    "    .order_by(func.sum(Base.classes.invoice_items.Quantity).desc())\n",
    "    .limit(10)\n",
    ")\n",
    "\n",
    "# Imprimir o nome do artista e a quantidade total vendida\n",
    "for artist_name, total_sold in res:\n",
    "    print(f\"Artist Name: {artist_name}, Quantity Sold: {total_sold}\")\n",
    "\n",
    "# Fechar a sessão\n",
    "session.close()"
   ]
  },
  {
   "cell_type": "code",
   "execution_count": null,
   "metadata": {},
   "outputs": [],
   "source": []
  }
 ],
 "metadata": {
  "kernelspec": {
   "display_name": "Python 3 (ipykernel)",
   "language": "python",
   "name": "python3"
  },
  "language_info": {
   "codemirror_mode": {
    "name": "ipython",
    "version": 3
   },
   "file_extension": ".py",
   "mimetype": "text/x-python",
   "name": "python",
   "nbconvert_exporter": "python",
   "pygments_lexer": "ipython3",
   "version": "3.12.4"
  }
 },
 "nbformat": 4,
 "nbformat_minor": 4
}
