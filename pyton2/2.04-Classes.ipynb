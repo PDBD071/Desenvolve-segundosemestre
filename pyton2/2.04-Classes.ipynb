{
 "cells": [
  {
   "cell_type": "markdown",
   "metadata": {},
   "source": [
    "> Projeto Desenvolve <br>\n",
    "Programação Intermediária com Python <br>\n",
    "Profa. Camila Laranjeira (mila@projetodesenvolve.com.br) <br>\n",
    "\n",
    "# 2.4 - Classes, atributos e métodos"
   ]
  },
  {
   "cell_type": "markdown",
   "metadata": {},
   "source": [
    "## Exercícios\n",
    "\n",
    "#### Q1.\n",
    "Vamos criar aos pouquinhos uma classe Evento que registra eventos de um calendário. Pra começar, nessa questão você deve:\n",
    "\n",
    "* Criar uma classe chamada Evento\n",
    "* Adicionar um atributo de classe `total_eventos` que será usado para contar o número total de eventos (instâncias de classe) criadas.\n",
    "* Implemente o método construtor que deve receber os parâmetros `titulo` (`string`), `data_hora` (`datetime`), `descrição` (`string`). Crie e inicialize um atributo de instância para cada um dos parâmetros citados.\n",
    "* O construtor também deve inicializar um atributo de instância `is_concluido = False`. Esse atributo será utilizado mais à frente. \n",
    "* No construtor você também deve incrementar o atributo de classe `total_eventos` em 1 a cada nova instância criada.\n",
    "\n",
    "Teste o seu código criando duas diferentes instâncias de evento (preencha os atributos como quiser) e imprimindo todos os seus atributos (de classe e de instância).\n",
    "\n",
    "> Consulte [este tutorial biblioteca `datetime`](https://www.w3schools.com/python/python_datetime.asp) caso não esteja familiarizado."
   ]
  },
  {
   "cell_type": "code",
   "execution_count": 2,
   "metadata": {
    "vscode": {
     "languageId": "plaintext"
    }
   },
   "outputs": [
    {
     "name": "stdout",
     "output_type": "stream",
     "text": [
      "Total de eventos criados: 2\n",
      "\n",
      "Evento 1 - Título: Reunião de equipe\n",
      "Data e Hora: 2024-11-20 09:00:00\n",
      "Descrição: Reunião para discutir os planos do trimestre.\n",
      "Concluído: False\n",
      "\n",
      "Evento 2 - Título: Aniversário de Maria\n",
      "Data e Hora: 2024-11-25 18:00:00\n",
      "Descrição: Festa surpresa para Maria.\n",
      "Concluído: False\n",
      "\n",
      "Total de eventos criados: 2\n"
     ]
    }
   ],
   "source": [
    "from datetime import datetime\n",
    "\n",
    "class Evento:\n",
    "    # Atributo de classe para contar o número total de eventos\n",
    "    total_eventos = 0\n",
    "    \n",
    "    def __init__(self, titulo, data_hora, descricao):\n",
    "        # Atributos de instância\n",
    "        self.titulo = titulo\n",
    "        self.data_hora = data_hora\n",
    "        self.descricao = descricao\n",
    "        self.is_concluido = False\n",
    "        \n",
    "        # Incrementa o total de eventos a cada nova instância criada\n",
    "        Evento.total_eventos += 1\n",
    "\n",
    "# Testando a classe\n",
    "\n",
    "# Criando duas instâncias de Evento\n",
    "evento1 = Evento(\"Reunião de equipe\", datetime(2024, 11, 20, 9, 0), \"Reunião para discutir os planos do trimestre.\")\n",
    "evento2 = Evento(\"Aniversário de Maria\", datetime(2024, 11, 25, 18, 0), \"Festa surpresa para Maria.\")\n",
    "\n",
    "# Imprimindo os atributos das instâncias e o total de eventos\n",
    "print(f\"Total de eventos criados: {Evento.total_eventos}\\n\")\n",
    "\n",
    "# Imprimindo atributos de evento1\n",
    "print(f\"Evento 1 - Título: {evento1.titulo}\")\n",
    "print(f\"Data e Hora: {evento1.data_hora}\")\n",
    "print(f\"Descrição: {evento1.descricao}\")\n",
    "print(f\"Concluído: {evento1.is_concluido}\\n\")\n",
    "\n",
    "# Imprimindo atributos de evento2\n",
    "print(f\"Evento 2 - Título: {evento2.titulo}\")\n",
    "print(f\"Data e Hora: {evento2.data_hora}\")\n",
    "print(f\"Descrição: {evento2.descricao}\")\n",
    "print(f\"Concluído: {evento2.is_concluido}\\n\")\n",
    "\n",
    "# Imprimindo o total de eventos novamente\n",
    "print(f\"Total de eventos criados: {Evento.total_eventos}\")\n"
   ]
  },
  {
   "cell_type": "markdown",
   "metadata": {},
   "source": [
    "#### Q2.\n",
    "Agora vamos adicionar métodos à nossa classe. Lembre dos diferentes decoradores que aprendemos. Você deve redefinir a classe com os seguintes métodos:\n",
    "* Um método `isConcluido()` que avalia se a `data_hora` do evento é menor que `datetime.now()` (a data e hora atual). Em caso positivo, atualiza o atributo de instância `is_concluido` para o valor `True`. \n",
    "* Um método de classe `num_eventos()` que retorna o valor do atributo de classe `total_eventos`.\n",
    "* Um método estático `valida_evento(nome, data_hora, descricao)` que recebe os atributos de um evento e testa os tipos de cada variável, retornando `True` caso todos estejam corretos e `False` caso contrário. Para o teste, use a função nativa do Python [`isinstance`](https://www.w3schools.com/python/ref_func_isinstance.asp).\n",
    "\n",
    "Para testar sua classe atualizada:\n",
    "* Crie uma instância de Evento com valor passado e chame o método `isConcluido()` para a instância criada. Em seguida imprima o atributo `is_concluido`. \n",
    "* Invoque o método de classe `num_eventos()` a partir da classe Evento (ou seja, sem criar nenhuma instância).\n",
    "* Chame o método estático `valida_evento()` a partir da classe Evento. Experimente passar valores corretos e incorretos. \n"
   ]
  },
  {
   "cell_type": "code",
   "execution_count": 3,
   "metadata": {
    "vscode": {
     "languageId": "plaintext"
    }
   },
   "outputs": [
    {
     "name": "stdout",
     "output_type": "stream",
     "text": [
      "Evento 1 concluído: False\n",
      "Total de eventos criados: 2\n",
      "Validação do evento 1 (correto): True\n",
      "Validação do evento 2 (incorreto): False\n"
     ]
    }
   ],
   "source": [
    "from datetime import datetime\n",
    "\n",
    "class Evento:\n",
    "    # Atributo de classe para contar o número total de eventos\n",
    "    total_eventos = 0\n",
    "    \n",
    "    def __init__(self, titulo, data_hora, descricao):\n",
    "        # Atributos de instância\n",
    "        self.titulo = titulo\n",
    "        self.data_hora = data_hora\n",
    "        self.descricao = descricao\n",
    "        self.is_concluido = False\n",
    "        \n",
    "        # Incrementa o total de eventos a cada nova instância criada\n",
    "        Evento.total_eventos += 1\n",
    "    \n",
    "    # Método que verifica se o evento está concluído\n",
    "    def isConcluido(self):\n",
    "        if self.data_hora < datetime.now():\n",
    "            self.is_concluido = True\n",
    "\n",
    "    # Método de classe que retorna o número total de eventos\n",
    "    @classmethod\n",
    "    def num_eventos(cls):\n",
    "        return cls.total_eventos\n",
    "    \n",
    "    # Método estático que valida os tipos dos atributos do evento\n",
    "    @staticmethod\n",
    "    def valida_evento(titulo, data_hora, descricao):\n",
    "        return isinstance(titulo, str) and isinstance(data_hora, datetime) and isinstance(descricao, str)\n",
    "\n",
    "# Testando a classe atualizada\n",
    "\n",
    "# Criando uma instância de Evento\n",
    "evento1 = Evento(\"Reunião de equipe\", datetime(2024, 11, 20, 9, 0), \"Reunião para discutir os planos do trimestre.\")\n",
    "evento2 = Evento(\"Aniversário de Keli\", datetime(2024, 11, 25, 18, 0), \"Festa surpresa para Keli.\")\n",
    "\n",
    "# Testando o método isConcluido\n",
    "evento1.isConcluido()\n",
    "print(f\"Evento 1 concluído: {evento1.is_concluido}\")\n",
    "\n",
    "# Testando o método de classe num_eventos\n",
    "print(f\"Total de eventos criados: {Evento.num_eventos()}\")\n",
    "\n",
    "# Testando o método estático valida_evento\n",
    "print(f\"Validação do evento 1 (correto): {Evento.valida_evento('Reunião de equipe', datetime(2024, 11, 20, 9, 0), 'Reunião para discutir os planos do trimestre.')}\")\n",
    "print(f\"Validação do evento 2 (incorreto): {Evento.valida_evento('Aniversário de Keli', '2024-11-25 18:00:00', 'Festa surpresa para Keli.')}\")\n"
   ]
  },
  {
   "cell_type": "markdown",
   "metadata": {
    "vscode": {
     "languageId": "plaintext"
    }
   },
   "source": [
    "#### Q3.\n",
    "\n",
    "Vamos incluir métodos mágicos! ✨🪄🔮\n",
    "\n",
    "Redefina a classe incluindo\":\n",
    "* Método `__str__` que imprime os atributos do evento na forma `\"Evento: titulo, Data: data_hora, Descrição: descricao, Concluido: is_concluido\"`.\n",
    "* Implemente os métodos de comparação `__eq__`, `__ne__`, `__lt__`, `__le__`, `__gt__` e `__ge__` para comparar eventos baseados no atributo `data_hora`. Esses métodos devem comparar duas instâncias de Evento e retornar os resultados apropriados (`True` ou `False`).\n",
    "\n",
    "Para testar, crie duas instâncias de Evento com datas diferentes. Imprima as instâncias com a função `print()` e apresente o resultado das comparações entre eventos (`==`, `!=`, `<`, `<=`, `>`, `>=`)."
   ]
  },
  {
   "cell_type": "code",
   "execution_count": 4,
   "metadata": {
    "vscode": {
     "languageId": "plaintext"
    }
   },
   "outputs": [
    {
     "name": "stdout",
     "output_type": "stream",
     "text": [
      "Evento: Reunião de equipe, Data: 2024-11-20 09:00:00, Descrição: Reunião para discutir os planos do trimestre., Concluído: False\n",
      "Evento: Aniversário de Keli, Data: 2024-11-25 18:00:00, Descrição: Festa surpresa para Keli., Concluído: False\n",
      "Evento 1 == Evento 2: False\n",
      "Evento 1 != Evento 2: True\n",
      "Evento 1 < Evento 2: True\n",
      "Evento 1 <= Evento 2: True\n",
      "Evento 1 > Evento 2: False\n",
      "Evento 1 >= Evento 2: False\n"
     ]
    }
   ],
   "source": [
    "from datetime import datetime\n",
    "\n",
    "class Evento:\n",
    "    # Atributo de classe para contar o número total de eventos\n",
    "    total_eventos = 0\n",
    "    \n",
    "    def __init__(self, titulo, data_hora, descricao):\n",
    "        # Atributos de instância\n",
    "        self.titulo = titulo\n",
    "        self.data_hora = data_hora\n",
    "        self.descricao = descricao\n",
    "        self.is_concluido = False\n",
    "        \n",
    "        # Incrementa o total de eventos a cada nova instância criada\n",
    "        Evento.total_eventos += 1\n",
    "    \n",
    "    # Método que verifica se o evento está concluído\n",
    "    def isConcluido(self):\n",
    "        if self.data_hora < datetime.now():\n",
    "            self.is_concluido = True\n",
    "    \n",
    "    # Método de classe que retorna o número total de eventos\n",
    "    @classmethod\n",
    "    def num_eventos(cls):\n",
    "        return cls.total_eventos\n",
    "    \n",
    "    # Método estático que valida os tipos dos atributos do evento\n",
    "    @staticmethod\n",
    "    def valida_evento(titulo, data_hora, descricao):\n",
    "        return isinstance(titulo, str) and isinstance(data_hora, datetime) and isinstance(descricao, str)\n",
    "    \n",
    "    # Método mágico __str__ para representar a instância como uma string\n",
    "    def __str__(self):\n",
    "        return f\"Evento: {self.titulo}, Data: {self.data_hora}, Descrição: {self.descricao}, Concluído: {self.is_concluido}\"\n",
    "    \n",
    "    # Métodos mágicos de comparação\n",
    "    def __eq__(self, other):\n",
    "        return self.data_hora == other.data_hora\n",
    "    \n",
    "    def __ne__(self, other):\n",
    "        return self.data_hora != other.data_hora\n",
    "    \n",
    "    def __lt__(self, other):\n",
    "        return self.data_hora < other.data_hora\n",
    "    \n",
    "    def __le__(self, other):\n",
    "        return self.data_hora <= other.data_hora\n",
    "    \n",
    "    def __gt__(self, other):\n",
    "        return self.data_hora > other.data_hora\n",
    "    \n",
    "    def __ge__(self, other):\n",
    "        return self.data_hora >= other.data_hora\n",
    "\n",
    "\n",
    "# Testando a classe atualizada\n",
    "\n",
    "# Criando duas instâncias de Evento com datas diferentes\n",
    "evento1 = Evento(\"Reunião de equipe\", datetime(2024, 11, 20, 9, 0), \"Reunião para discutir os planos do trimestre.\")\n",
    "evento2 = Evento(\"Aniversário de Keli\", datetime(2024, 11, 25, 18, 0), \"Festa surpresa para Keli.\")\n",
    "\n",
    "# Testando o método __str__ com print()\n",
    "print(evento1)\n",
    "print(evento2)\n",
    "\n",
    "# Testando os operadores de comparação\n",
    "print(f\"Evento 1 == Evento 2: {evento1 == evento2}\")\n",
    "print(f\"Evento 1 != Evento 2: {evento1 != evento2}\")\n",
    "print(f\"Evento 1 < Evento 2: {evento1 < evento2}\")\n",
    "print(f\"Evento 1 <= Evento 2: {evento1 <= evento2}\")\n",
    "print(f\"Evento 1 > Evento 2: {evento1 > evento2}\")\n",
    "print(f\"Evento 1 >= Evento 2: {evento1 >= evento2}\")\n"
   ]
  },
  {
   "cell_type": "code",
   "execution_count": null,
   "metadata": {},
   "outputs": [],
   "source": []
  }
 ],
 "metadata": {
  "kernelspec": {
   "display_name": "Python 3 (ipykernel)",
   "language": "python",
   "name": "python3"
  },
  "language_info": {
   "codemirror_mode": {
    "name": "ipython",
    "version": 3
   },
   "file_extension": ".py",
   "mimetype": "text/x-python",
   "name": "python",
   "nbconvert_exporter": "python",
   "pygments_lexer": "ipython3",
   "version": "3.12.4"
  }
 },
 "nbformat": 4,
 "nbformat_minor": 4
}
